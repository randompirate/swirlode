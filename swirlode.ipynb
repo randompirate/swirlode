{
 "cells": [
  {
   "cell_type": "code",
   "execution_count": 30,
   "metadata": {
    "collapsed": true
   },
   "outputs": [],
   "source": [
    "import scipy.integrate as integrate\n",
    "import matplotlib.pyplot as plt\n",
    "import numpy as np\n",
    "import ipywidgets as wd\n",
    "\n",
    "\n",
    "# Constants and functions\n",
    "pi = np.pi\n",
    "sqrt = np.sqrt\n",
    "cos = np.cos\n",
    "sin = np.sin\n",
    "\n",
    "# Time space\n",
    "t = np.linspace(0, 16*np.pi, 1000)"
   ]
  },
  {
   "cell_type": "code",
   "execution_count": 32,
   "metadata": {
    "collapsed": false
   },
   "outputs": [],
   "source": [
    "#Derivative definition\n",
    "# TODO: Parametrize\n",
    "def deriv_z(a, b):\n",
    "    def retfun(z,t):\n",
    "        x, xdot, y, ydot = z\n",
    "\n",
    "        return [xdot, -a*y*ydot - xdot  +b,\n",
    "                ydot, -y-.01*ydot]\n",
    "    return retfun"
   ]
  },
  {
   "cell_type": "code",
   "execution_count": 33,
   "metadata": {
    "collapsed": false
   },
   "outputs": [
    {
     "ename": "TypeError",
     "evalue": "deriv_z() missing 1 required positional argument: 'b'",
     "output_type": "error",
     "traceback": [
      "\u001b[1;31m---------------------------------------------------------------------------\u001b[0m",
      "\u001b[1;31mTypeError\u001b[0m                                 Traceback (most recent call last)",
      "\u001b[1;32m<ipython-input-33-90a983050316>\u001b[0m in \u001b[0;36msolver\u001b[1;34m(a)\u001b[0m\n\u001b[0;32m      4\u001b[0m               0, 1]\n\u001b[0;32m      5\u001b[0m \u001b[1;33m\u001b[0m\u001b[0m\n\u001b[1;32m----> 6\u001b[1;33m     \u001b[0mz\u001b[0m \u001b[1;33m=\u001b[0m \u001b[0mintegrate\u001b[0m\u001b[1;33m.\u001b[0m\u001b[0modeint\u001b[0m\u001b[1;33m(\u001b[0m\u001b[0mderiv_z\u001b[0m\u001b[1;33m(\u001b[0m\u001b[0ma\u001b[0m\u001b[1;33m)\u001b[0m\u001b[1;33m,\u001b[0m \u001b[0mz_init\u001b[0m\u001b[1;33m,\u001b[0m \u001b[0mt\u001b[0m\u001b[1;33m)\u001b[0m\u001b[1;33m\u001b[0m\u001b[0m\n\u001b[0m\u001b[0;32m      7\u001b[0m     \u001b[0mx\u001b[0m\u001b[1;33m,\u001b[0m \u001b[0mxdot\u001b[0m\u001b[1;33m,\u001b[0m \u001b[0my\u001b[0m\u001b[1;33m,\u001b[0m \u001b[0mydot\u001b[0m \u001b[1;33m=\u001b[0m \u001b[0mz\u001b[0m\u001b[1;33m.\u001b[0m\u001b[0mT\u001b[0m\u001b[1;33m\u001b[0m\u001b[0m\n\u001b[0;32m      8\u001b[0m \u001b[1;33m\u001b[0m\u001b[0m\n",
      "\u001b[1;31mTypeError\u001b[0m: deriv_z() missing 1 required positional argument: 'b'"
     ]
    }
   ],
   "source": [
    "\n",
    "def solver(*args):\n",
    "    z_init = [0, 1,\n",
    "              0, 1]\n",
    "\n",
    "    z = integrate.odeint(deriv_z(a), z_init, t)\n",
    "    x, xdot, y, ydot = z.T\n",
    "\n",
    "    plt.plot(x,y)\n",
    "    \n",
    "wd.interact(solver, a=(0.0,10.0,.1), b=(0.0,10.0,.1));\n"
   ]
  }
 ],
 "metadata": {
  "kernelspec": {
   "display_name": "Python 3",
   "language": "python",
   "name": "python3"
  },
  "language_info": {
   "codemirror_mode": {
    "name": "ipython",
    "version": 3
   },
   "file_extension": ".py",
   "mimetype": "text/x-python",
   "name": "python",
   "nbconvert_exporter": "python",
   "pygments_lexer": "ipython3",
   "version": "3.5.3"
  }
 },
 "nbformat": 4,
 "nbformat_minor": 0
}
